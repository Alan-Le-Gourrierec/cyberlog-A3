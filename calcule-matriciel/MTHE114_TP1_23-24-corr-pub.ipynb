{
 "cells": [
  {
   "cell_type": "markdown",
   "metadata": {},
   "source": [
    "***\n",
    "\n",
    "# Calcul Matriciel\n",
    "## TP1. Graphs encodings\n",
    "\n",
    "***\n",
    "***\n",
    "\n",
    "Basic and advanced encoding of graphs.\n",
    "***\n",
    "***\n",
    "A few ground rules for your report:\n",
    "* _your code must be clear, commented and use explicit variable names_\n",
    "* _every algorithm must be tested on a few examples which show the different use cases_\n",
    "* _markdown comments and examples must be provided, and the report should be self-contained_"
   ]
  },
  {
   "cell_type": "code",
   "execution_count": 2,
   "metadata": {},
   "outputs": [],
   "source": [
    "import networkx as nx\n",
    "import numpy as np\n",
    "import matplotlib.pyplot as plt\n",
    "%matplotlib inline\n",
    "#magic\n",
    "import warnings\n",
    "warnings.filterwarnings('ignore')"
   ]
  },
  {
   "cell_type": "markdown",
   "metadata": {},
   "source": [
    "\n",
    "**_In this pratical, we will only deal with non-oriented graphs. It can be however interesting to notice what would work or fail in the oriented setting_**\n",
    "\n",
    "\n",
    "The basic python's tool for matrices and linear algebra in numpy, we are going to use it a lot (but rarely in a complicated way)\n",
    "\n",
    "reference: https://numpy.org/doc/stable/reference/routines.array-creation.html\n",
    "\n",
    "***\n",
    "## <font color=blue>Some adjacency matrices examples</font> ##\n",
    "***\n",
    "\n",
    "**To Do:**\n",
    "\n",
    "**_question 1_**\n",
    "\n",
    "Create a numpy array `B` representing the adjacency matrix of the Bull graph (cf CM1)"
   ]
  },
  {
   "cell_type": "code",
   "execution_count": 3,
   "metadata": {},
   "outputs": [],
   "source": [
    "\n",
    "B=np.array(\n",
    "[[0,1,0,0,0], \n",
    "[1,0,1,1,0], \n",
    "[0,1,0,1,0], \n",
    "[0,1,1,0,1],\n",
    "[0,0,0,1,0]])\n",
    "\n"
   ]
  },
  {
   "cell_type": "markdown",
   "metadata": {},
   "source": [
    "\n",
    "**To Do:**\n",
    "\n",
    "**_question 2_**\n",
    "\n",
    "Create function  `complet(n)` returning the adjacency matrix of the complete graph on $n$ vertices.\n",
    "\n",
    "Create function  ` wheel(n)` returning the adjacency matrix of the wheel graph on $n+1$ vertices.\n"
   ]
  },
  {
   "cell_type": "code",
   "execution_count": 4,
   "metadata": {},
   "outputs": [
    {
     "data": {
      "text/plain": [
       "array([[0., 1., 1., 1., 1., 1.],\n",
       "       [1., 0., 1., 0., 0., 1.],\n",
       "       [1., 1., 0., 1., 0., 0.],\n",
       "       [1., 0., 1., 0., 1., 0.],\n",
       "       [1., 0., 0., 1., 0., 1.],\n",
       "       [1., 1., 0., 0., 1., 0.]])"
      ]
     },
     "execution_count": 4,
     "metadata": {},
     "output_type": "execute_result"
    }
   ],
   "source": [
    "def complete(n):\n",
    "    \"\"\"\n",
    "     Returns the adjacency matrix of a complete graph with n vertices\n",
    "\n",
    "    :param n: nomber of vertices\n",
    "    :type n:  int\n",
    "    :return: adjacency matrix of a complete graph with n vertices\n",
    "    :rtype: 2D numpy array of int\n",
    "    \"\"\"\n",
    "    A=np.ones((n,n))\n",
    "    for i in range(n):\n",
    "        A[i][i]=0\n",
    "    return A\n",
    "\n",
    "\n",
    "\n",
    "def wheel(n):\n",
    "    \"\"\"\n",
    "     Returns the adjacency matrix of a wheel graph with n+1 vertices\n",
    "\n",
    "    :param n: nomber of vertices\n",
    "    :type n:  int\n",
    "    :return: adjacency matrix of a wheel graph with n+1 vertices\n",
    "    :rtype: 2D numpy array of int\n",
    "    \"\"\"\n",
    "    A=np.zeros((n+1,n+1))\n",
    "    for i in range(1,n):\n",
    "        A[i][i+1]=1\n",
    "        A[i+1][i]=1\n",
    "        A[0][i]=1\n",
    "        A[i][0]=1\n",
    "    A[0][n]=1\n",
    "    A[n][0]=1\n",
    "    A[1][n]=1\n",
    "    A[n][1]=1\n",
    "    return A\n",
    "\n",
    "wheel(5)"
   ]
  },
  {
   "cell_type": "markdown",
   "metadata": {},
   "source": [
    "\n",
    "***\n",
    "## <font color=blue>A python librairy for graphs: networkx</font> ##\n",
    "***\n",
    "\n",
    "\n",
    "In this course praticals, we will use networkx, mostly for drawings of graphs (+ comparing our methods)\n",
    "\n",
    "tutorial (drawing part): https://networkx.org/documentation/stable/tutorial.html\n",
    "\n",
    "\n",
    "doc (numpy part): https://networkx.org/documentation/stable/reference/convert.html#module-networkx.convert_matrix \n",
    "\n",
    "\n",
    "**To Do:**\n",
    "\n",
    "**_question 1_**\n",
    "\n",
    "Convert your graph `B` to a networkx graph and draw it (using the spring layout for instance)"
   ]
  },
  {
   "cell_type": "code",
   "execution_count": 5,
   "metadata": {},
   "outputs": [
    {
     "data": {
      "image/png": "[encoded data removed]",
      "text/plain": [
       "<Figure size 432x288 with 1 Axes>"
      ]
     },
     "metadata": {},
     "output_type": "display_data"
    }
   ],
   "source": [
    "G=nx.from_numpy_array(B)\n",
    "\n",
    "nx.draw(G,pos=nx.circular_layout(G))"
   ]
  },
  {
   "cell_type": "code",
   "execution_count": 6,
   "metadata": {},
   "outputs": [
    {
     "data": {
      "text/plain": [
       "array([[0., 1., 1., 1., 1., 1., 1.],\n",
       "       [1., 0., 1., 0., 0., 0., 1.],\n",
       "       [1., 1., 0., 1., 0., 0., 0.],\n",
       "       [1., 0., 1., 0., 1., 0., 0.],\n",
       "       [1., 0., 0., 1., 0., 1., 0.],\n",
       "       [1., 0., 0., 0., 1., 0., 1.],\n",
       "       [1., 1., 0., 0., 0., 1., 0.]])"
      ]
     },
     "execution_count": 6,
     "metadata": {},
     "output_type": "execute_result"
    },
    {
     "data": {
      "image/png": "[encoded data removed]",
      "text/plain": [
       "<Figure size 432x288 with 1 Axes>"
      ]
     },
     "metadata": {},
     "output_type": "display_data"
    }
   ],
   "source": [
    "G=nx.from_numpy_array(wheel(6))\n",
    "nx.draw(G,pos=nx.spring_layout(G))\n",
    "A=nx.to_numpy_array(G)\n",
    "A"
   ]
  },
  {
   "cell_type": "markdown",
   "metadata": {},
   "source": [
    "**To Do:**\n",
    "\n",
    "**_question 2_**\n",
    "\n",
    "Using networkx build-in functions (https://networkx.org/documentation/stable/reference/generators.html), write a function `Adjgrid(n)` which return the 2d $n\\times n$ grid graph\n",
    "\n",
    "Draw it"
   ]
  },
  {
   "cell_type": "code",
   "execution_count": 7,
   "metadata": {},
   "outputs": [
    {
     "data": {
      "image/png": "[encoded data removed]",
      "text/plain": [
       "<Figure size 432x288 with 1 Axes>"
      ]
     },
     "metadata": {},
     "output_type": "display_data"
    }
   ],
   "source": [
    "def Adjgrid(n):\n",
    "    return nx.to_numpy_array(nx.grid_2d_graph(n,n))\n",
    "\n",
    "G= nx.grid_2d_graph(8,8)\n",
    "\n",
    "\n",
    "nx.draw(G,pos=nx.spring_layout(G))"
   ]
  },
  {
   "cell_type": "markdown",
   "metadata": {},
   "source": [
    "***\n",
    "## <font color=blue>Classical encodings</font> ##\n",
    "***\n",
    "\n",
    "**To Do:**\n",
    "\n",
    "**_question 1_**\n",
    "\n",
    "_**using no loop**_, write down an algorithm mimicking networkx print and which takes as an input the adjacency matrix of $G$.\n",
    "\n",
    "The resulting text must include:\n",
    "* the number of vertices\n",
    "* the number of edges\n",
    "* the list of degree of each vertex\n",
    "\n",
    "Hint: use the algebraic properties of the matrix\n",
    "\n",
    "Give an estimate of the complexity of your algorithms"
   ]
  },
  {
   "cell_type": "code",
   "execution_count": 9,
   "metadata": {},
   "outputs": [
    {
     "name": "stdout",
     "output_type": "stream",
     "text": [
      "Graph with 5 nodes and 5 edges\n"
     ]
    }
   ],
   "source": [
    "#reference from networkx\n",
    "G=nx.from_numpy_array(B)\n",
    "print(G)"
   ]
  },
  {
   "cell_type": "code",
   "execution_count": 11,
   "metadata": {},
   "outputs": [
    {
     "name": "stdout",
     "output_type": "stream",
     "text": [
      "number of vertices: 5\n",
      "number of edges: 5\n",
      "degree list: [1 3 2 3 1]\n"
     ]
    },
    {
     "data": {
      "text/plain": [
       "[5, 5, array([1, 3, 2, 3, 1])]"
      ]
     },
     "execution_count": 11,
     "metadata": {},
     "output_type": "execute_result"
    }
   ],
   "source": [
    "def info(A):\n",
    "    \"\"\"\n",
    "    Return some informations about an adjacency matrix.\n",
    "\n",
    "    :param A: the adjacency matrix\n",
    "    :type A: a matrix (two dimensionnal array) containing only integers\n",
    "    :return: the number of vertices (int), the number of edges (int) and a list of degree (table of int)\n",
    "    :rtype: int, int, table of int\n",
    "    \"\"\"\n",
    "    n=A.shape[0]\n",
    "    print(\"number of vertices:\",A.shape[0])\n",
    "    AA=np.dot(A,A)\n",
    "    print(\"number of edges:\",int(np.trace(AA)/2))\n",
    "    d=A@np.ones(n,dtype=int)\n",
    "    print(\"degree list:\",d)\n",
    "    return [n,int(np.trace(AA)/2),d]\n",
    "    \n",
    "A=np.array([[0 , 1 , 0 , 0 , 0 ],[1 , 0 , 1 , 1 , 0 ],[0 , 1 , 0 , 1 , 0 ],[0 , 1 , 1 , 0 , 1 ],[0 , 0 , 0 , 1 , 0]])\n",
    "info(A)\n",
    "    "
   ]
  },
  {
   "cell_type": "markdown",
   "metadata": {},
   "source": [
    "*****\n",
    "**To Do:**\n",
    "\n",
    "\n",
    "**_question 2_**\n",
    "\n",
    "Create algorithms that convert addjacency matrix/to-from/incidence matrix/to-from/adjacency list.\n",
    "\n",
    "\n",
    "Test your algorithms on a few examples\n"
   ]
  },
  {
   "cell_type": "code",
   "execution_count": 12,
   "metadata": {},
   "outputs": [
    {
     "name": "stdout",
     "output_type": "stream",
     "text": [
      "number of vertices: 5\n",
      "number of edges: 5\n",
      "degree list: [1 3 2 3 1]\n"
     ]
    },
    {
     "data": {
      "text/plain": [
       "array([[1, 0, 0, 0, 0],\n",
       "       [1, 1, 1, 0, 0],\n",
       "       [0, 1, 0, 1, 0],\n",
       "       [0, 0, 1, 1, 1],\n",
       "       [0, 0, 0, 0, 1]])"
      ]
     },
     "execution_count": 12,
     "metadata": {},
     "output_type": "execute_result"
    }
   ],
   "source": [
    "def adjacencyToIncidence(A):\n",
    "    \"\"\"\n",
    "         Return the incidence matrix from an adjacency matrix.\n",
    " \n",
    "        :param A: the adjacency matrix\n",
    "        :type A: a matrix (two dimensionnal array) containing only integers\n",
    "        :return:  the incidence matrix\n",
    "        :rtype: a matrix (two dimensionnal array) containing only integers\n",
    "    \"\"\"    \n",
    "    n,m,d=info(A)\n",
    "    \n",
    "    I=np.zeros((n,m),int)\n",
    "    e=0\n",
    "    for i in range(n):\n",
    "        for j in range(i+1,n):\n",
    "            if A[i][j]>0:\n",
    "                I[i][e]=1\n",
    "                I[j][e]=1\n",
    "                e=e+1                \n",
    "    return I\n",
    "\n",
    "adjacencyToIncidence(A)"
   ]
  },
  {
   "cell_type": "code",
   "execution_count": 16,
   "metadata": {},
   "outputs": [
    {
     "name": "stdout",
     "output_type": "stream",
     "text": [
      "number of vertices: 5\n",
      "number of edges: 5\n",
      "degree list: [1 3 2 3 1]\n"
     ]
    },
    {
     "data": {
      "text/plain": [
       "{0: array([1]),\n",
       " 1: array([0, 2, 3]),\n",
       " 2: array([1, 3]),\n",
       " 3: array([1, 2, 4]),\n",
       " 4: array([3])}"
      ]
     },
     "execution_count": 16,
     "metadata": {},
     "output_type": "execute_result"
    }
   ],
   "source": [
    "def adjacencyToList(A):\n",
    "    n,m,d=info(A)\n",
    "    \n",
    "    L={}\n",
    "    for i in range(n):\n",
    "        l=np.zeros(d[i],int)\n",
    "        e=0\n",
    "        for j in range(n):\n",
    "            if A[i][j]>0:\n",
    "                l[e]=j\n",
    "                e=e+1 \n",
    "        L[i]=l\n",
    "    return L\n",
    "\n",
    "adjacencyToList(A)"
   ]
  },
  {
   "cell_type": "code",
   "execution_count": 15,
   "metadata": {},
   "outputs": [
    {
     "name": "stdout",
     "output_type": "stream",
     "text": [
      "number of vertices: 5\n",
      "number of edges: 5\n",
      "degree list: [1 3 2 3 1]\n",
      "[[ True  True  True  True  True]\n",
      " [ True  True  True  True  True]\n",
      " [ True  True  True  True  True]\n",
      " [ True  True  True  True  True]\n",
      " [ True  True  True  True  True]]\n"
     ]
    }
   ],
   "source": [
    "def incidenceToAdjacency(I):\n",
    "    A=np.dot(I,I.transpose())\n",
    "    for i in range(A.shape[0]):\n",
    "        A[i][i]=0\n",
    "    return A\n",
    "\n",
    "print(np.equal(incidenceToAdjacency(adjacencyToIncidence(A)),A))"
   ]
  },
  {
   "cell_type": "code",
   "execution_count": 10,
   "metadata": {},
   "outputs": [
    {
     "name": "stdout",
     "output_type": "stream",
     "text": [
      "[[0 0 0 0 1 0 0]\n",
      " [0 0 0 1 1 1 1]\n",
      " [0 0 0 0 1 0 0]\n",
      " [0 1 0 0 0 0 0]\n",
      " [1 1 1 0 0 0 0]\n",
      " [0 1 0 0 0 0 0]\n",
      " [0 1 0 0 0 0 0]]\n",
      "number of vertices: 5\n",
      "number of edges: 5\n",
      "degree list: [1 3 2 3 1]\n"
     ]
    },
    {
     "data": {
      "text/plain": [
       "array([[ True,  True,  True,  True,  True],\n",
       "       [ True,  True,  True,  True,  True],\n",
       "       [ True,  True,  True,  True,  True],\n",
       "       [ True,  True,  True,  True,  True],\n",
       "       [ True,  True,  True,  True,  True]])"
      ]
     },
     "execution_count": 10,
     "metadata": {},
     "output_type": "execute_result"
    }
   ],
   "source": [
    "def listToAdjacency(L):\n",
    "    A=np.zeros((len(L),len(L)),int)\n",
    "    for i in range(A.shape[0]):\n",
    "        for j in range(len(L[i])):\n",
    "            A[i][L[i][j]]=1\n",
    "            A[L[i][j]][i]=1\n",
    "    return A\n",
    "\n",
    "\n",
    "LT={0:[4],1:[3,4,5,6],2:[4],3:[1],4:[0,2],5:[1],6:[1]}\n",
    "print(listToAdjacency(LT))\n",
    "\n",
    "A==listToAdjacency(adjacencyToList(A))"
   ]
  },
  {
   "cell_type": "code",
   "execution_count": null,
   "metadata": {},
   "outputs": [],
   "source": []
  },
  {
   "cell_type": "markdown",
   "metadata": {},
   "source": [
    "***\n",
    "## <font color=blue>Havel-Hakimi Algorithm and degree sequence</font> ##\n",
    "***\n",
    "\n",
    "\n",
    "The aim of this part is to give a complete characterisation of admissible degree sequences\n",
    "\n",
    "The _Havel-Hakimi Algorithm_  ([Havel, 1955] and [Hakimi, 1962]) works as follows:\n",
    "given $d=(d_0,d_1,\\dots,d_{n-1})$ a potential list of degree of a graph (sorted in decreasing order)\n",
    "* if $d$ contains only $0$ then $d$ is __graphic__\n",
    "* if $d$ has a negative value then $d$ is _not_ __graphic__\n",
    "* if $d_0$ is larger thant the length of $d$  then $d$ is _not_ __graphic__\n",
    "* otherwise, $d$ is graphic iff the list $d'=(d_1-1,d_2-1,d_3-1,\\dots,d_{d_0}-1,d_{d_0+1},d_{d_0+2},\\dots,d_{n-1})$ is graphical\n",
    "\n",
    "\n",
    "\n",
    "***\n",
    "***\n",
    "**To Do:**\n",
    "\n",
    "**_question 3_**\n",
    "\n",
    "Using Havel-Hakimi algorithm, determine weither the sequence $(5,2,1)$, $(3,3,2,1,1)$, and $(3,3,1,1)$ are graphic or not.\n",
    "***\n",
    "\n",
    "**To Do:**\n",
    "\n",
    "**_question 4_**\n",
    "\n",
    "Implement this algorithm and test it on a few examples\n",
    "\n",
    "***\n",
    "\n",
    "**To Do:**\n",
    "\n",
    "**_question 5_**\n",
    "\n",
    "Justify the algorithm by giving a construction showing that, if $(d_1-1,d_2-1,d_3-1,\\dots,d_{d_0}-1,d_{d_0+1},\\dots,d_{n-1})$ is graphic, then so is $d=(d_0,d_1,\\dots,d_{n-1})$."
   ]
  },
  {
   "cell_type": "code",
   "execution_count": 11,
   "metadata": {},
   "outputs": [
    {
     "name": "stdout",
     "output_type": "stream",
     "text": [
      "True\n",
      "False\n",
      "False\n"
     ]
    },
    {
     "data": {
      "text/plain": [
       "True"
      ]
     },
     "execution_count": 11,
     "metadata": {},
     "output_type": "execute_result"
    }
   ],
   "source": []
  },
  {
   "cell_type": "markdown",
   "metadata": {},
   "source": [
    "**Bonus:**\n",
    "\n",
    "Given a (graphic) sequence, and using Havel-Hakimi Algorithm as source of inspiration, write an algorithm creating a graph corresponding to this sequence. "
   ]
  }
 ],
 "metadata": {
  "kernelspec": {
   "display_name": "Python 3",
   "language": "python",
   "name": "python3"
  },
  "language_info": {
   "codemirror_mode": {
    "name": "ipython",
    "version": 3
   },
   "file_extension": ".py",
   "mimetype": "text/x-python",
   "name": "python",
   "nbconvert_exporter": "python",
   "pygments_lexer": "ipython3",
   "version": "3.8.10"
  }
 },
 "nbformat": 4,
 "nbformat_minor": 4
}
