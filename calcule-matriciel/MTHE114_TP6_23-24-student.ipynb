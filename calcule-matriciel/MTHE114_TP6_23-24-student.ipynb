{
 "cells": [
  {
   "cell_type": "markdown",
   "metadata": {},
   "source": [
    "\n",
    "***\n",
    "\n",
    "# Calcul Matriciel\n",
    "## TP6. Matching, Weddings and cie\n",
    "***\n",
    "***\n",
    "\n",
    "In this practical, we are going to solve the perfect marriage  problem and implement Gale-Shapley algorithm, used to pair two populations based on each agent's preferences\n",
    "\n",
    "\n",
    "***\n",
    "***\n",
    "A few ground rules for your report:\n",
    "* _your code must be clear, commented and use explicit variable names_\n",
    "* _every algorithm must be tested on a few examples which show the different use cases_\n",
    "* _markdown comments and examples must be provided, and the report should be self-contained_"
   ]
  },
  {
   "cell_type": "code",
   "execution_count": 37,
   "metadata": {},
   "outputs": [],
   "source": [
    "import networkx as nx\n",
    "import numpy as np\n",
    "import random as rd\n",
    "import matplotlib.pyplot as plt\n",
    "%matplotlib inline\n",
    "#magic\n",
    "import warnings\n",
    "warnings.filterwarnings('ignore')\n"
   ]
  },
  {
   "cell_type": "markdown",
   "metadata": {},
   "source": [
    "***\n",
    "## <font color=blue>Stable mariages</font>\n",
    "***\n",
    "\n",
    "***\n",
    "\n",
    "### _modelization of the problem_\n",
    "\n",
    "the students and unis are represented by interger ranging from $0$ to $n-1$.\n",
    "\n",
    "The preferences are given by two np array of shape $(n,n)$, <tt>prefStu</tt> and <tt>prefUni</tt> thus the preferences of student $i$ are given by <tt>prefStu[i]</tt>.\n",
    "\n",
    "The marriages are going to be stored in the adjacency matrix $M$ of a (bipartite) graph whose vertices are students (numbered $0$ to $n-$) and unis (numbered $n+0$ to $n+n-1$).\n",
    "\n",
    "\n",
    "\n",
    "**To Do:**\n",
    "\n",
    "**_question 1_**\n",
    "\n",
    "**a** Given arrays of $n$  students/universities, create a array of array for the preferences of each student/university (to have an example for next questions).\n",
    "\n",
    "\n",
    "\n",
    "**b** using <tt>np.arange(n)</tt>, and <tt>np.random.permutation(a)</tt> ; create a random matrix of preferences of size $n \\times n$.\n",
    "\n",
    "\n",
    "**c** \n",
    "Write a function which determines weither a student (resp. a university) is married and to whom (use <tt>np.where</tt> for instance).\n",
    "\n",
    "\n",
    "**d**\n",
    "Write a function which determines if a university prefers a proposed marriage other its current one\n",
    "Same thing for a student.\n",
    "\n",
    "\n",
    "**d'** \n",
    "_(optional)_ Write a function which determines weither a marriage is stable or not.\n",
    "\n",
    "\n",
    "\n",
    "\n",
    "One can compare and verify the solution using https://daffidwilde.github.io/matching/docs/tutorials/stable_marriage.html"
   ]
  },
  {
   "cell_type": "code",
   "execution_count": 38,
   "metadata": {},
   "outputs": [
    {
     "name": "stdout",
     "output_type": "stream",
     "text": [
      "[[10.  2.  8.  5.  9.  1.  3.  4.  6.  7.]\n",
      " [ 4.  6.  9.  7.  5.  2.  8.  1.  3. 10.]\n",
      " [ 8.  5.  1.  9.  2.  3.  7.  6. 10.  4.]\n",
      " [ 6.  3.  4.  2.  9.  8. 10.  1.  5.  7.]\n",
      " [ 4.  6.  7.  2.  8.  9.  1.  3. 10.  5.]\n",
      " [ 7.  8.  4.  1.  5.  6.  2. 10.  3.  9.]\n",
      " [10.  2.  3.  9.  4.  7.  1.  5.  8.  6.]\n",
      " [ 8. 10.  9.  4.  6.  5.  2.  3.  7.  1.]\n",
      " [ 9.  5.  6.  3.  1.  2.  7.  4. 10.  8.]\n",
      " [ 4.  9.  8.  1.  5.  7. 10.  2.  3.  6.]]\n"
     ]
    }
   ],
   "source": [
    "#a\n",
    "def Students(size):\n",
    "    Student = np.zeros((size,size))\n",
    "    return Student\n",
    "\n",
    "#b\n",
    "def Liste(size):\n",
    "    L=[]\n",
    "    for i in range(size):L.append(i+1)\n",
    "    rd.shuffle(L)\n",
    "    return L\n",
    "\n",
    "def Rand_pref(size):\n",
    "    Etudiant = Students(size)\n",
    "    for i in range(size):\n",
    "        L = Liste(size)\n",
    "        for j in range(size):\n",
    "            Etudiant[i,j] = L[j]\n",
    "    return Etudiant\n",
    "        \n",
    "\n",
    "print(Rand_pref(10))\n",
    "\n"
   ]
  },
  {
   "cell_type": "code",
   "execution_count": 46,
   "metadata": {},
   "outputs": [
    {
     "name": "stdout",
     "output_type": "stream",
     "text": [
      "[[0. 0.]\n",
      " [0. 0.]\n",
      " [0. 0.]\n",
      " [0. 0.]\n",
      " [0. 0.]\n",
      " [0. 0.]\n",
      " [0. 0.]\n",
      " [0. 0.]\n",
      " [0. 0.]\n",
      " [0. 0.]\n",
      " [0. 0.]\n",
      " [0. 0.]] 0.0\n"
     ]
    }
   ],
   "source": [
    "#c\n",
    "def MatriceMariage(size):\n",
    "    return np.zeros((size,2))\n",
    "\n",
    "size = 12\n",
    "M = MatriceMariage(size)\n",
    "\n",
    "def IsMariedU(M,u):\n",
    "    \"\"\"\n",
    "    #determines if and to whom uni u is matched in M \n",
    "    \"\"\" \n",
    "    return M[u,1]\n",
    "\n",
    "    \n",
    "def IsMariedS(M,s):\n",
    "    \"\"\"\n",
    "    #determines if and to whom student s is matched in M \n",
    "    \"\"\"    \n",
    "    return M[s,0]\n",
    "\n",
    "\n",
    "def IsCouple(M,s,u):\n",
    "    \"\"\"\n",
    "    #determines if student s and uni u are matched in M\n",
    "    \"\"\"\n",
    "    return u == M[u,0]\n",
    "\n",
    "\n",
    "#d\n",
    "def PrefersUni(M,prefUni,u,prop):\n",
    "    \"\"\"\n",
    "    #determines if uni u prefers the proposition prop\n",
    "    #to its current matching    \n",
    "    \"\"\"\n",
    "    student = M[0,u]\n",
    "    for i in range(student):\n",
    "        if prefUni[student] == prop:\n",
    "            M[0,u] = 0\n",
    "            M[1,u] = prop\n",
    "            M[0,prop] = u\n",
    "            return M,\n",
    "    return M    \n",
    "#chec si tjr la même chose après, si oui rang +1 et try angain\n",
    "\n",
    "def PrefersStu(M,prefStu,s,prop):\n",
    "    \"\"\"\n",
    "    determines if student s prefers the proposition prop\n",
    "    to its current matching      \n",
    "    \"\"\"\n",
    "    university = M[1,s]\n",
    "    for i in range(university):\n",
    "        if prefStu[university] == prop :\n",
    "            M[1,s] = 0\n",
    "            M[0,s] = prop\n",
    "            M[1,prop] = s\n",
    "            return M\n",
    "    return M\n",
    "#chec si tjr la même chose après, si oui rang +1 et try angain"
   ]
  },
  {
   "cell_type": "code",
   "execution_count": 40,
   "metadata": {},
   "outputs": [
    {
     "data": {
      "text/plain": [
       "'tests'"
      ]
     },
     "execution_count": 40,
     "metadata": {},
     "output_type": "execute_result"
    }
   ],
   "source": [
    "\"\"\"tests\"\"\""
   ]
  },
  {
   "cell_type": "markdown",
   "metadata": {},
   "source": [
    "**_question 2_**\n",
    "\n",
    "Assemble the previous functions to get the Gale-Shapley algorithm."
   ]
  },
  {
   "cell_type": "code",
   "execution_count": 41,
   "metadata": {},
   "outputs": [],
   "source": [
    "###todo\n",
    "def Nilpotente(M):\n",
    "    for i in range(np.shape(M)[0]):\n",
    "        for j in range(np.shape(M)[1]):\n",
    "            if M[i,j] == 0:\n",
    "                return False\n",
    "    return True\n",
    "\n",
    "def GaleShapley(studentPref,uniPref,size):\n",
    "    \"\"\"\n",
    "        Stable marriage\n",
    "\n",
    "        :param studentPref:  preferences of students\n",
    "        :type studentPref: np array of dim 2\n",
    "        :param uniPref:  preferences of universities\n",
    "        :type uniPref: np array of dim 2\n",
    "        :return: Stable marriage (adjacency matrix of bipartite graph)\n",
    "        :rtype: np array of dim 2\n",
    "    \"\"\"\n",
    "    M = MatriceMariage(size)\n",
    "    while(Nilpotente(M) == False):\n",
    "        \n",
    "        \n",
    "    \n",
    "           \n",
    "    return M"
   ]
  },
  {
   "cell_type": "code",
   "execution_count": null,
   "metadata": {},
   "outputs": [],
   "source": []
  },
  {
   "cell_type": "code",
   "execution_count": null,
   "metadata": {},
   "outputs": [],
   "source": []
  },
  {
   "cell_type": "markdown",
   "metadata": {},
   "source": [
    "**_bonus question 1_** \n",
    "\n",
    "Create a function ploting the marriages along the algorithm (idealy with dashed line and colours when a couple is broken)"
   ]
  },
  {
   "cell_type": "code",
   "execution_count": null,
   "metadata": {},
   "outputs": [],
   "source": []
  },
  {
   "cell_type": "markdown",
   "metadata": {},
   "source": [
    "**_bonus question 2_** \n",
    "\n",
    "\n",
    "Plot the average time of execution of the algorithm on (random) instances of size $n$.\n",
    "Conjecture the average time complexity and compare to the (theoretical) worst case time complexity."
   ]
  },
  {
   "cell_type": "code",
   "execution_count": 42,
   "metadata": {},
   "outputs": [],
   "source": [
    "import time\n",
    "\n"
   ]
  },
  {
   "cell_type": "markdown",
   "metadata": {},
   "source": [
    "**_bonus question 3_** \n",
    "\n",
    "Plot the average choice for student and uni on (random) instances of size $n$."
   ]
  },
  {
   "cell_type": "code",
   "execution_count": null,
   "metadata": {},
   "outputs": [],
   "source": []
  },
  {
   "cell_type": "markdown",
   "metadata": {},
   "source": [
    "**_bonus question 4_** \n",
    "\n",
    "Implement and illustrate Irving stable roommates algorithm."
   ]
  },
  {
   "cell_type": "code",
   "execution_count": null,
   "metadata": {},
   "outputs": [],
   "source": []
  }
 ],
 "metadata": {
  "kernelspec": {
   "display_name": "Python 3",
   "language": "python",
   "name": "python3"
  },
  "language_info": {
   "codemirror_mode": {
    "name": "ipython",
    "version": 3
   },
   "file_extension": ".py",
   "mimetype": "text/x-python",
   "name": "python",
   "nbconvert_exporter": "python",
   "pygments_lexer": "ipython3",
   "version": "3.11.5"
  }
 },
 "nbformat": 4,
 "nbformat_minor": 4
}
