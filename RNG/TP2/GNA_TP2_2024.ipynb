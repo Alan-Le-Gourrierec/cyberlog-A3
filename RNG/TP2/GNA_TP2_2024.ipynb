{
 "cells": [
  {
   "cell_type": "markdown",
   "metadata": {},
   "source": [
    "# <center> Générateurs de nombres aléatoires <br> TP2 - Registres à décalage à rétroaction linéaire (LFSR)</center>\n",
    "<center> 2023/2024 - L. Naert/A. Ridard </center>"
   ]
  },
  {
   "cell_type": "code",
   "execution_count": 35,
   "metadata": {},
   "outputs": [],
   "source": [
    "import datetime as dt\n",
    "import numpy as np"
   ]
  },
  {
   "cell_type": "markdown",
   "metadata": {},
   "source": [
    "## Le registre à décalage à rétroaction linéaire"
   ]
  },
  {
   "cell_type": "markdown",
   "metadata": {},
   "source": [
    "### Exercice 1 : LFSR en tant que GNA"
   ]
  },
  {
   "cell_type": "markdown",
   "metadata": {},
   "source": [
    "Considérons le LFSR dont le polynôme de rétroaction est défini par :\n",
    "$$ f(X) = 1 + X^3 + X^5 + X^8 $$\n",
    "\n",
    "Notons $\\big(b_n\\big)_{n\\in\\mathbb N}$ la suite générée par ce LFSR c'est à dire la suite récurrente binaire définie par :\n",
    "$$ \\left\\{\\begin{array}{l}\n",
    "\tb_0, b_1, \\dots, b_7 \\in \\{0, 1\\}\\\\ \n",
    "\t\\forall n\\geq 8,\\ b_{n} = b_{n-1}  \\oplus b_{n-4} \\oplus b_{n-6}\n",
    "\t\\end{array}\\right.$$\n",
    "    \n",
    "On peut représenter ce LFSR de la manière suivante :\n",
    "\n",
    "<img src=\"LFSR_TP2.png\" width=\"400\">\n",
    "    \n",
    "Remarquons qu'il s'agit, en fait, du GMR d'ordre 8 défini par :\n",
    "\n",
    "- $S = \\{0, 1\\}^8$\n",
    "- $f(\\textbf{s}) = f\\Big(s^{(1)},\\ \\dots\\ ,\\ s^{(8)}\\Big) = \\Big(s^{(2)},\\ \\dots\\ ,\\ s^{(8)},\\ s^{(3)} + \\ s^{(5)}\\  + s^{(8)} \\mod 2\\Big)$\n",
    "\n",
    "Ou encore du générateur digital défini par :\n",
    "\n",
    "- $S = \\{0, 1\\}^8$\n",
    "- $f(\\textbf{s}) = A\\textbf{s} \\mod 2$ où $A$ désigne la matrice carrée \n",
    "$\\left(\\begin{array}{cccccccc}\n",
    "0 & 1 & 0 & 0 & 0 & 0 & 0 & 0 \\\\ \n",
    "0 & 0 & 1 & 0 & 0 & 0 & 0 & 0 \\\\\n",
    "0 & 0 & 0 & 1 & 0 & 0 & 0 & 0 \\\\\n",
    "0 & 0 & 0 & 0 & 1 & 0 & 0 & 0 \\\\\n",
    "0 & 0 & 0 & 0 & 0 & 1 & 0 & 0 \\\\\n",
    "0 & 0 & 0 & 0 & 0 & 0 & 1 & 0 \\\\\n",
    "0 & 0 & 0 & 0 & 0 & 0 & 0 & 1 \\\\\n",
    "0 & 0 & 1 & 0 & 1 & 0 & 0 & 1 \\\\\n",
    "\\end{array}\\right)$"
   ]
  },
  {
   "cell_type": "markdown",
   "metadata": {},
   "source": [
    "La fonction `generation_reg_graine(taille)` génère un registre de taille `taille` basée sur l'heure"
   ]
  },
  {
   "cell_type": "code",
   "execution_count": 36,
   "metadata": {},
   "outputs": [
    {
     "name": "stdout",
     "output_type": "stream",
     "text": [
      "[1, 1, 1, 1, 1, 1, 1, 1]\n"
     ]
    }
   ],
   "source": [
    " def generation_reg_graine(taille):\n",
    "    \"\"\"\n",
    "    Génération d'un registre de taille \"taille\" basée sur l'heure\n",
    "    \"\"\" \n",
    "    ### Transformation de la date en une chaine de caractères\n",
    "    date = str(dt.datetime.now())\n",
    "    #print(date)\n",
    "    ### Transformation de la fin de la chaine en un entier codable sur taille bits\n",
    "    init_entier = int(date[-6:]) % 2**taille # j'ai choisi de prendre les 6 derniers caractères \n",
    "    #print(init_entier)\n",
    "    ### Représentation de l'entier sur un octet\n",
    "    init_bin = bin(init_entier)[2:] # on retire le 0b qui permet de préciser qu'il s'agit d'un nombre binaire\n",
    "    while len(init_bin) < taille : \n",
    "        init_bin = '0' + init_bin # on rajoute des 0 pour que le nombre produit soit composé de taille bits. (padding)\n",
    "    #print(init_bin)\n",
    "    ### Transformation de la chaine des bits en une liste\n",
    "    init_reg = [int(x) for x in init_bin]\n",
    "    return init_reg\n",
    "\n",
    "print(generation_reg_graine(8))"
   ]
  },
  {
   "cell_type": "markdown",
   "metadata": {
    "collapsed": true,
    "jupyter": {
     "outputs_hidden": true
    }
   },
   "source": [
    "> **Question 1.1 (Décalage d'un LFSR) :** Ecrire une fonction `etatSuivant(etat,iCoeff)` qui prend une liste binaire correspondant à l'état interne du registre ainsi qu'une liste des coefficients de rétroaction non nuls (i.e. indices des cases sur lesquelles faire le xor) et renvoie l'état suivant du registre et le bit de sortie."
   ]
  },
  {
   "cell_type": "markdown",
   "metadata": {},
   "source": [
    "ATTENTION : L'implémentation en Python impacte la numérotation : ici les coefficients de rétroaction seront indicés de $0$ à $l-1$ au lieu de $1$ à $l$ dans le cours."
   ]
  },
  {
   "cell_type": "code",
   "execution_count": 37,
   "metadata": {},
   "outputs": [
    {
     "name": "stdout",
     "output_type": "stream",
     "text": [
      "([0, 0, 1, 0], 1)\n",
      "([0, 1, 0, 1], 0)\n",
      "etatSuivant : OK\n"
     ]
    }
   ],
   "source": [
    "def etatSuivant(etat,iCoeff):\n",
    "    bit = 0\n",
    "    list = []\n",
    "    if etat[iCoeff[0]] ^ etat[iCoeff[1]] ^ etat[iCoeff[2]] :\n",
    "        bit = 1\n",
    "    for i in range(len(etat)-1):\n",
    "        list.append(etat[i+1])\n",
    "\n",
    "    list.append(bit)\n",
    "    return list, etat[0]\n",
    " \n",
    "print(etatSuivant([1,0,0,1],[0,2,3]))\n",
    "print(etatSuivant(etatSuivant([1,0,0,1],[0,2,3])[0],[0,2,3]))\n",
    "try:\n",
    "    assert etatSuivant([1,0,0,1],[0,2,3]) == ([0,0,1,0],1)  #Exemple du cours slide 14\n",
    "    assert etatSuivant(etatSuivant([1,0,0,1],[0,2,3])[0],[0,2,3]) == ([0,1,0,1],0) #Exemple du cours slide 14\n",
    "    print(\"etatSuivant : OK\")\n",
    "except:\n",
    "    print(\"etatSuivant : ERREUR\")"
   ]
  },
  {
   "cell_type": "markdown",
   "metadata": {},
   "source": [
    "> **Question 1.2 (Période) :**\n",
    "> 1) Ecrire une fonction `findPeriod(g,iCoeff)` qui renvoie la période ainsi que la liste des différents registres avant la première répétition. `graine` représente la graine du LFSR.\n",
    "> 2) Tester cette fonction en utilisant la fonction de génération aléatoire d'une graine. Afficher les différents registres, indiquer la période et la période maximale possible."
   ]
  },
  {
   "cell_type": "code",
   "execution_count": 38,
   "metadata": {},
   "outputs": [
    {
     "name": "stdout",
     "output_type": "stream",
     "text": [
      "findPeriod : OK\n"
     ]
    }
   ],
   "source": [
    "def findPeriod(graine,iCoeff) :\n",
    "    listEtat = []\n",
    "    periode = 0\n",
    "    while(graine not in listEtat):\n",
    "        listEtat.append(graine)\n",
    "        graine = etatSuivant(graine, iCoeff)[0]\n",
    "\n",
    "    listEtat.append(graine)\n",
    "    i = listEtat.index(graine)+1\n",
    "    while(graine != listEtat[i]):\n",
    "        i+=1\n",
    "\n",
    "    return listEtat, i - listEtat.index(graine)\n",
    "\n",
    "try:\n",
    "    lsfr_vect, p1= findPeriod([1,0,0,1],[0,2,3]) # LFSR du cours : périodique\n",
    "    assert p1 == 7\n",
    "    lsfr_vect, p2= findPeriod([1,0,1,0,1,1,0,0],[2,4,7]) # LFSR du TP : ultimement périodique \n",
    "    assert p2 == 7\n",
    "    lsfr_vect, p3= findPeriod([1,0,1,0,1,1,0,0],[1,3,5])\n",
    "    assert p3 == 63\n",
    "    print(\"findPeriod : OK\")\n",
    "except:\n",
    "    print(\"findPeriod : ERREUR\")"
   ]
  },
  {
   "cell_type": "code",
   "execution_count": 39,
   "metadata": {},
   "outputs": [
    {
     "name": "stdout",
     "output_type": "stream",
     "text": [
      "1953\n"
     ]
    }
   ],
   "source": [
    "print(findPeriod(generation_reg_graine(12),[0,5,6,9,11])[1])"
   ]
  },
  {
   "cell_type": "markdown",
   "metadata": {},
   "source": [
    "A partir d'un état $\\Big(s^{(1)},\\ \\dots\\ ,s^{(8)}\\Big)$ du registre, on peut générer un réel entre 0 et 1 (avec une précision de $2^{-8}$) défini par :\n",
    "$$u = \\displaystyle\\sum_{i=1}^8 s^{(i)}2^{-i} \\quad$$\n",
    "\n",
    "Il s'agit, en fait, de la formule $g(\\textbf{s}) = \\displaystyle\\sum_{i=1}^w \\Big((B\\textbf{s})_i \\mod 2\\Big)2^{-i}$ avec $B = I_8$.\n",
    "\n",
    "En prenant $B = \\left(\\begin{array}{cccccccc}\n",
    "\t\t1 & 0 & 0 & 0 & 0 & 0 & 0 & 0\\\\ \n",
    "\t\t0 & 1 & 0 & 0 & 0 & 0 & 0 & 0\\\\\n",
    "\t\t0 & 0 & 1 & 0 & 0 & 0 & 0 & 0\\\\\n",
    "\t\t0 & 0 & 0 & 1 & 0 & 0 & 0 & 0\\\\\n",
    "\t\t\\end{array}\\right)$, on obtient toujours un réel entre 0 et 1 mais seulement avec une précision de $2^{-4}$ :\n",
    "        \n",
    "$$u = \\displaystyle\\sum_{i=1}^4 s^{(i)}2^{-i}$$\n",
    "\n",
    "Plus généralement, on peut générer un réel entre 0 et 1 avec une précision de $2^{-w}$ grâce à la formule suivante ($w \\le L$ avec $L$ la taille du registre): \n",
    "\n",
    "$$u = \\displaystyle\\sum_{i=1}^w s^{(i)}2^{-i} \\quad (*)$$"
   ]
  },
  {
   "cell_type": "markdown",
   "metadata": {
    "collapsed": true,
    "jupyter": {
     "outputs_hidden": true
    }
   },
   "source": [
    "> **Question 1.3 (Génération de réels) :**\n",
    "1.  Programmer une fonction **regToReel**$(reg, w)$ qui transforme un registre $reg$ en un réel de précision de $2^{-w}$ suivant la formule (*). Si $w$ prend une valeur incorrect, la précision doit être mis à la valeur maximale possible.\n",
    "2. Générer les réels (avec une précision de $2^{-8}$) jusqu'à la première répétition avec le LFSR présenté en début de TP et en initialisant les 8 bits avec l'horloge de l'ordinateur"
   ]
  },
  {
   "cell_type": "code",
   "execution_count": 40,
   "metadata": {},
   "outputs": [
    {
     "name": "stdout",
     "output_type": "stream",
     "text": [
      "0.5625\n",
      "regToReel : OK\n"
     ]
    }
   ],
   "source": [
    "def regToReel(reg,w) :\n",
    "    reel = 0\n",
    "    if w>len(reg):\n",
    "        w = len(reg)\n",
    "    for i in range(w) :\n",
    "        reel += reg[i]*2**-(i+1)\n",
    "    return reel\n",
    "\n",
    "print(regToReel([1,0,0,1],4))\n",
    "try:\n",
    "    assert regToReel([1,0,0,1],4) == 0.5625\n",
    "    assert regToReel([1,0,0,1],3) == 0.5\n",
    "    assert regToReel([1,0,1,1,0,1],18) == 0.703125\n",
    "    print(\"regToReel : OK\")\n",
    "except:\n",
    "    print(\"regToReel : ERREUR\")\n"
   ]
  },
  {
   "cell_type": "code",
   "execution_count": 41,
   "metadata": {},
   "outputs": [
    {
     "name": "stdout",
     "output_type": "stream",
     "text": [
      "0.5703125\n"
     ]
    }
   ],
   "source": [
    "print(regToReel(generation_reg_graine(16),8))"
   ]
  },
  {
   "cell_type": "markdown",
   "metadata": {},
   "source": [
    "### Exercice 2 : Application en cryptographie avec le masque jetable\n",
    "\n",
    "Voici deux fonctions qui vous seront (certainement) utiles dans la suite du TP :\n",
    "\n",
    "- `stringToBinary` convertit une chaine de caractère en une suite binaire.\n",
    "- `binaryToString` permet de changer une suite binaire en chaine de caractère."
   ]
  },
  {
   "cell_type": "code",
   "execution_count": 42,
   "metadata": {},
   "outputs": [
    {
     "name": "stdout",
     "output_type": "stream",
     "text": [
      "En binaire : 01101101011001010111001101110011011000010110011101100101001000000110010101101110001000000110001101101100011000010110100101110010\n",
      "En ascii : message en clair\n"
     ]
    }
   ],
   "source": [
    "def stringToBinary(msg):\n",
    "    msg_bin = \"\"\n",
    "    for i in bytearray(msg, encoding ='ascii') :\n",
    "        msg_bin = msg_bin + format(i, '08b')\n",
    "    return msg_bin\n",
    "\n",
    "def binaryToString(binary):\n",
    "    msg = \"\"\n",
    "    for i in range(0, len(binary), 8):\n",
    "        byte_int = int(binary[i:i+8], 2)\n",
    "        byte_char = chr(byte_int)\n",
    "        msg = msg + byte_char\n",
    "        \n",
    "    return msg\n",
    "\n",
    "        \n",
    "print(\"En binaire :\", stringToBinary(\"message en clair\"))\n",
    "print(\"En ascii :\",binaryToString(stringToBinary(\"message en clair\")))\n",
    "\n"
   ]
  },
  {
   "cell_type": "markdown",
   "metadata": {},
   "source": [
    "Le masque jetable, aussi appelé \"chiffrement de Vernam\", repose sur le principe du \"ou exclusif\" (_xor_, noté $\\oplus$, opérateur ^ en python) bit à bit entre le message binaire à chiffrer et la clef de chiffrement (de même longueur). \n",
    "\n",
    "Voici la table de vérité du \"ou exclusif\" :\n",
    "$$ 0 \\oplus 0 = 0 $$ \n",
    "$$ 1 \\oplus 1 = 0 $$\n",
    "$$ 1 \\oplus 0 = 1 $$\n",
    "$$ 0 \\oplus 1 = 1 $$\n",
    "\n",
    "Ainsi, étant donné une clef _k_ de longueur _n_ (donc $k \\in (\\mathbb{Z}/2\\mathbb{Z})^n$)\n",
    "\n",
    "\\begin{align*}\n",
    "  E_k \\colon (\\mathbb{Z}/2\\mathbb{Z})^n &\\to (\\mathbb{Z}/2\\mathbb{Z})^n\\\\\n",
    "  m &\\mapsto c = m \\oplus k\n",
    "\\end{align*}\n",
    "\n",
    "Par exemple, avec $m = 1100 1100$ et $k = 1010 1011$, on aura $c = 0110 0111$ (Vérifiez par vous même !)\n",
    "\n",
    "Le masque jetable garantit la sécurité des messages à condition qu'une clef ne serve qu'au chiffrement d'un seul message (d'où le \"jetable\" du nom) sinon, la cryptanalyse devient possible.\n",
    "\n",
    "\n",
    "> __Question 2.1 (masque jetable/Chiffrement de Vernam)__ : Définir une fonction `chiffrementVernam(msgBinaire, clef)` qui étant donné un message en clair binaire `msgBinaire`, et une suite binaire `clef` de même longueur que le message retourne le message chiffré correspondant."
   ]
  },
  {
   "cell_type": "code",
   "execution_count": 43,
   "metadata": {},
   "outputs": [
    {
     "name": "stdout",
     "output_type": "stream",
     "text": [
      "101110101010100110111110101000101010110110100001\n",
      "chiffrementVernam : OK\n"
     ]
    }
   ],
   "source": [
    "def chiffrementVernam(st, xor):\n",
    "    st = list(st)\n",
    "    xor = list(xor)\n",
    "    chiffre = ''\n",
    "\n",
    "    for i in range(len(st)):\n",
    "        if st[i] == xor[i%len(xor)]:\n",
    "            chiffre += '0'\n",
    "        else: chiffre += '1'  \n",
    "\n",
    "    return chiffre\n",
    "\n",
    "print(chiffrementVernam(stringToBinary(\"vernam\"),\"110011001100110011001100110011001100110011001100\"))\n",
    "try:\n",
    "    assert chiffrementVernam(stringToBinary(\"vernam\"),\"110011001100110011001100110011001100110011001100\") == \"101110101010100110111110101000101010110110100001\"\n",
    "    print(\"chiffrementVernam : OK\")\n",
    "except:\n",
    "    print(\"chiffrementVernam : ERREUR\")"
   ]
  },
  {
   "cell_type": "markdown",
   "metadata": {},
   "source": [
    "Le déchiffrement s'opère en executant la même opération : $m = c \\oplus k$\n",
    "> __Question 2.2 (déchiffrement)__ : Quel clair (en ascii) représente le chiffré \"1010001010101101101010011011111010111000\" codé avec la clef \"1100110011001100110011001100110011001100\" ? Ecrire le bout de code permettant de le déchiffrer.\n"
   ]
  },
  {
   "cell_type": "code",
   "execution_count": 44,
   "metadata": {},
   "outputs": [
    {
     "name": "stdout",
     "output_type": "stream",
     "text": [
      "naert\n"
     ]
    }
   ],
   "source": [
    "chiffre = chiffrementVernam(\"1010001010101101101010011011111010111000\",'1100110011001100110011001100110011001100')\n",
    "\n",
    "message = ''\n",
    "for i in range(0,len(chiffre),8):\n",
    "    lettre = chiffre[i:i+8]\n",
    "    message +=chr(int(lettre,2))\n",
    "\n",
    "print(message)"
   ]
  },
  {
   "cell_type": "markdown",
   "metadata": {
    "collapsed": true,
    "jupyter": {
     "outputs_hidden": true
    }
   },
   "source": [
    "> __Question 2.3 (suite chiffrante)__ :\n",
    "> - Ecrire une fonction `suite_LSFR(graine,coeff,n)` qui prend en entrée une liste binaire correspondant à la graine du registre, une liste des indices des coefficients de rétroaction non nuls et la longueur souhaitée de la suite chiffrante et qui renvoie la suite chiffrante binaire __sous forme d'une chaine de caractère__.\n",
    "> - Ecrire une fonction `convertToList(suiteCaractere)` qui prend une chaine de caractère composée de 0 et de 1 et la convertit en liste d'entier."
   ]
  },
  {
   "cell_type": "code",
   "execution_count": 45,
   "metadata": {},
   "outputs": [
    {
     "name": "stdout",
     "output_type": "stream",
     "text": [
      "suite_LFSR et convertToList : OK\n"
     ]
    }
   ],
   "source": [
    "def suite_LFSR(graine,iCoeff,n):\n",
    "    suite = \"\"\n",
    "    for i in range(n):\n",
    "        graine, res = etatSuivant(graine, iCoeff)\n",
    "        suite += str(res)\n",
    "    return suite\n",
    "\n",
    "def convertToList(suiteCaractere):\n",
    "    suiteCaratere = list(suiteCaractere)\n",
    "    return [int(suiteCaractere[i]) for i in range (len(suiteCaractere))]\n",
    "     \n",
    "try:\n",
    "    assert suite_LFSR([1,0,0,1],[0,2,3],14) == \"10010111001011\"\n",
    "    assert convertToList(\"10010111001011\") == [1, 0, 0, 1, 0, 1, 1, 1, 0, 0, 1, 0, 1, 1]\n",
    "    print(\"suite_LFSR et convertToList : OK\")\n",
    "except:\n",
    "    print(\"suite_LFSR et convertToList : ERREUR\")\n"
   ]
  },
  {
   "cell_type": "markdown",
   "metadata": {},
   "source": [
    "> __Question 2.4 (Chiffrement par LFSR)__ : Ecrire une fonction `chiffrementLFSR(msgAscii, graine,coeff)` qui déroule l'ensemble du processus de chiffrement par masque jetable généré par LSFR et retourne la version binaire du message chiffré."
   ]
  },
  {
   "cell_type": "code",
   "execution_count": 46,
   "metadata": {},
   "outputs": [
    {
     "name": "stdout",
     "output_type": "stream",
     "text": [
      "chiffrementLFSR : OK\n"
     ]
    }
   ],
   "source": [
    "def chiffrementLFSR(msgAscii, graine,iCoeff):\n",
    "    bin = stringToBinary(msgAscii)\n",
    "    solve = ''\n",
    "    xor = suite_LFSR(graine,iCoeff,len(bin))\n",
    "    return chiffrementVernam(bin, xor) \n",
    "\n",
    "try:\n",
    "    assert chiffrementLFSR(\"naert\",[1,0,0,1],[0,2,3]) == \"1111100101001111001110011100101100000110\"\n",
    "    print(\"chiffrementLFSR : OK\")\n",
    "except:\n",
    "    print(\"chiffrementLFSR : ERREUR\")\n"
   ]
  },
  {
   "cell_type": "markdown",
   "metadata": {},
   "source": [
    "### Exercice 3 : Attaque sur un LFSR et reconstruction du polynôme de rétroaction minimal"
   ]
  },
  {
   "cell_type": "markdown",
   "metadata": {},
   "source": [
    "Si l'attaquant dispose des 16 premiers bits $b_0,\\ \\dots\\ ,\\ b_{15}$, il peut reconstruire le polynôme de rétroaction\n",
    "$f(X) = 1 + c_1X + \\dots + c_8X^8$.\n",
    "\n",
    "Il suffit, en effet, de résoudre l'équation matricielle :\n",
    "$$ \\left(\\begin{array}{cccc}\n",
    "\t\tb_0 & b_1 & \\dots & b_7 \\\\\n",
    "        b_1 & b_2 & \\dots & b_8 \\\\\n",
    "        \\vdots & & & \\vdots \\\\\n",
    "        b_7 & b_8 & \\dots & b_{14} \\\\\n",
    "\t\t\\end{array}\\right) . \n",
    "        \\left(\\begin{array}{c}\n",
    "\t\tc_1 \\\\ \n",
    "\t\tc_2 \\\\\n",
    "        \\vdots \\\\\n",
    "        c_8 \\\\\n",
    "\t\t\\end{array}\\right) =\n",
    "        \\left(\\begin{array}{c}\n",
    "\t\tb_8 \\\\ \n",
    "\t\tb_9 \\\\\n",
    "\t\t\\vdots \\\\\n",
    "        b_{15} \\\\\n",
    "\t\t\\end{array}\\right)\n",
    "        $$\n",
    "        \n",
    "Pour cela, on peut utiliser la méthode du pivot de Gauss pour résoudre le système d'équations linéaires associé d'inconnues $c_1,\\ \\dots\\ ,\\ c_8$.\n",
    "\n",
    "On résume ce système avec la \"matrice étendue\" $\\left(\\begin{array}{cccc | c}\n",
    "\t\tb_0 & b_1 & \\dots & b_7 & b_8 \\\\\n",
    "        b_1 & b_2 & \\dots & b_8 & b_9 \\\\\n",
    "        \\vdots & & &  & \\vdots \\\\\n",
    "        b_7 & b_8 & \\dots & b_{14} & b_{15} \\\\\n",
    "\t\t\\end{array}\\right)$.\n",
    "        \n",
    "On applique alors l'algorithme suivant :\n",
    "\n",
    "\n",
    "- Pour $i$ variant de 0 à 7 :\n",
    "\n",
    "    - (A) : si la ligne $i$ ne contient pas 1 en position $i$, on cherche une ligne $k$ contenant 1 en position $i$ et on remplace la ligne $i$ par son XOR avec la ligne $k$. $k$ > $i$\n",
    "    \n",
    "    - (B) : on remplace chaque ligne qui contient 1 en colonne $i$, sauf la $i$-ième, par son XOR avec la ligne $i$\n",
    "$$ $$\n",
    "- Si la boucle s'est bien terminée, on obtient l'unique solution dans la dernière colonne (attention à l'ordre)\n",
    "\n",
    "- Si le premier point dans la boucle échoue, c'est que la matrice n'est pas inversible car la complexité linéaire est en fait strictement inférieure à 8...\n",
    "\n",
    "Dans ce cas, pour déterminer la complexité linéaire et le polynôme de rétroaction minimal, on exécute l'algorithme précédent pour toutes les complexités linéaires $l$ possibles $1,\\ \\dots,\\ 7$ en partant de $l=1$, jusqu'à pouvoir reconstituer tous les termes connus de la suite.<br>\n",
    "Chaque résolution de système, à partir des $2l$ premiers bits $b_0,\\ \\dots,\\ b_{2l-1}$ fournit un polynôme de rétroaction candidat que l'on teste avec les termes suivants de la suite $b_{2l},\\ \\dots,\\ b_{15}$ pour savoir s'il convient."
   ]
  },
  {
   "cell_type": "markdown",
   "metadata": {
    "collapsed": true,
    "jupyter": {
     "outputs_hidden": true
    }
   },
   "source": [
    "> **Question 3.1 :** Coder une fonction `suiteToSys(suiteChiff)` qui transforme une suite chiffrante sous forme de liste d'entier de taille 2l en système/matrice de taille $l \\times (l+1)$ (à résoudre par le pivot de Gauss)"
   ]
  },
  {
   "cell_type": "code",
   "execution_count": 47,
   "metadata": {},
   "outputs": [
    {
     "name": "stdout",
     "output_type": "stream",
     "text": [
      "La suite chiffrante générée à partir de la graine [0, 0, 1, 1, 1, 0, 1, 1] est :\n",
      "[0, 0, 1, 1, 1, 0, 1, 1, 1, 0, 0, 1, 1, 0, 1, 0] \n",
      "\n",
      "Le système à résoudre est alors :\n",
      "[[0 0 1 1 1 0 1 1 1]\n",
      " [0 1 1 1 0 1 1 1 0]\n",
      " [1 1 1 0 1 1 1 0 0]\n",
      " [1 1 0 1 1 1 0 0 1]\n",
      " [1 0 1 1 1 0 0 1 1]\n",
      " [0 1 1 1 0 0 1 1 0]\n",
      " [1 1 1 0 0 1 1 0 1]\n",
      " [1 1 0 0 1 1 0 1 0]]\n",
      "suiteToSys : OK\n"
     ]
    }
   ],
   "source": [
    "# On transforme une suite chiffrante en système (à résoudre par le pivot de Gauss)\n",
    "\n",
    "def suiteToSys(suiteChiff):\n",
    "    \"\"\"\n",
    "    Cette fonction retourne le système, sous forme de matrice étendue l x l+1, \n",
    "    provenant de la suite chiffrante de longueur 2l\n",
    "    \"\"\"\n",
    "    l = len(suiteChiff) // 2  \n",
    "    sys = np.array([suiteChiff[i] for i in range(l+1)])\n",
    "\n",
    "    for i in range(1,l):\n",
    "        tmp = [suiteChiff[i+j] for j in range(l+1)]\n",
    "        sys = np.vstack((sys, tmp))\n",
    "\n",
    "    return sys\n",
    " \n",
    "\n",
    "init =  [0, 0, 1, 1, 1, 0, 1, 1]\n",
    "suiteChiff = convertToList(suite_LFSR(init, [2, 4, 7], 16))\n",
    "print('La suite chiffrante générée à partir de la graine', init, 'est :')\n",
    "print(suiteChiff, '\\n')\n",
    "\n",
    "tabSys = suiteToSys(suiteChiff)\n",
    "print('Le système à résoudre est alors :')\n",
    "#print(tabSys)\n",
    "\n",
    "print(suiteToSys(suiteChiff))\n",
    "#print(suiteChiff)\n",
    "try : \n",
    "    tabSys = suiteToSys(suiteChiff)\n",
    "    assert np.all(tabSys == np.array([[0, 0, 1, 1, 1, 0, 1, 1, 1], \n",
    "                            [0, 1, 1, 1, 0, 1, 1, 1, 0], \n",
    "                            [1, 1, 1, 0, 1, 1, 1, 0, 0],\n",
    "                            [1, 1, 0, 1, 1, 1, 0, 0, 1],\n",
    "                            [1, 0, 1, 1, 1, 0, 0, 1, 1],\n",
    "                            [0, 1, 1, 1, 0, 0, 1, 1, 0],\n",
    "                            [1, 1, 1, 0, 0, 1, 1, 0, 1],\n",
    "                            [1, 1, 0, 0, 1, 1, 0, 1, 0]]))\n",
    "    print(\"suiteToSys : OK\")\n",
    "except:\n",
    "    print(\"suiteToSys : ERREUR\")"
   ]
  },
  {
   "cell_type": "markdown",
   "metadata": {},
   "source": [
    "> **Question 3.2 :**\n",
    "> Ecrire une fonction `pivotGauss(matrice)` qui prend une matrice de taille l lignes, l+1 colonnes, qui execute l'algorithme du pivot de gauss et qui retourne la liste des positions des 1 lorsque la solution est unique, et -1 sinon (matrice non inversible)\n",
    "\n"
   ]
  },
  {
   "cell_type": "code",
   "execution_count": 48,
   "metadata": {},
   "outputs": [
    {
     "name": "stdout",
     "output_type": "stream",
     "text": [
      "[2, 4]\n",
      "pivotGauss : ERREUR\n"
     ]
    }
   ],
   "source": [
    "def xor(liste, xor):\n",
    "    for i in range(np.shape(liste)[0]):\n",
    "        liste[i] = liste[i] ^ xor[i]\n",
    "    return liste\n",
    "\n",
    "def pivotGaussEtape(matrice,etape):\n",
    "    x,y = np.shape(matrice)\n",
    "\n",
    "    for i in range(x):\n",
    "        if(matrice[i][etape] == 1 and etape != i):\n",
    "            matrice[i] = xor(matrice[i],matrice[etape])\n",
    "        \n",
    "    return matrice\n",
    "\n",
    "def GaussSolution(matrice):\n",
    "    x,y = np.shape(matrice)\n",
    "    sol = []\n",
    "    for i in range(x):\n",
    "        if matrice[i][y-1] == 1:\n",
    "            sol.append(i)\n",
    "    return sol \n",
    "\n",
    "def pivotGauss(matrice) :\n",
    "    \"\"\"\n",
    "    Cette fonction retourne la liste des positions des 1 lorsque la solution est unique, \n",
    "    et -1 sinon (matrice non inversible)\n",
    "    \"\"\"\n",
    "    if int(np.linalg.det(matrice[:, :-1])) == 0:\n",
    "        return -1\n",
    "\n",
    "    x,y = np.shape(matrice)\n",
    "    \n",
    "    for i in range(x):\n",
    "        if(matrice[i][i] == 1):\n",
    "            matrice = pivotGaussEtape(matrice,i)\n",
    "        else:\n",
    "            for j in range(i,x):\n",
    "                if(matrice[j][i]==1):\n",
    "                    matrice[i]= np.array(xor(matrice[i],matrice[j]))\n",
    "                    matrice = pivotGaussEtape(matrice,i)\n",
    "\n",
    "    return GaussSolution(matrice), matrice\n",
    "\n",
    "\n",
    "try : \n",
    "    # Un exemple de résolution avec une matrice inversible, mais qui ne provient pas d'une suite chiffrante !\n",
    "    tabSys = np.array([[1, 1, 1, 1, 1, 0], [0, 0, 1, 1, 0, 1], [1, 1, 0, 1, 0, 0], [0, 0, 1, 1, 1, 0], \n",
    "                   [0, 1, 1, 1, 1, 0]])\n",
    "\n",
    "    print(pivotGauss(tabSys))\n",
    "    \n",
    "    sol, sysResolu = pivotGauss(tabSys)\n",
    "    assert sol == [2, 4]\n",
    "    assert np.all(sysResolu == np.array([[1, 0, 0, 0, 0, 0],[0, 1, 0, 0, 0, 0],[0, 0, 1, 0, 0, 1],[0, 0, 0, 1, 0, 0],[0, 0, 0, 0, 1, 1]]))\n",
    "    \n",
    "    print(\"pivotGauss : OK\")\n",
    "except:\n",
    "    print(\"pivotGauss : ERREUR\")\n",
    "    "
   ]
  },
  {
   "cell_type": "markdown",
   "metadata": {},
   "source": [
    "> **Question 3.3 :**\n",
    "> Ecrire une fonction `indicesToPolynome(iCoeff)` qui a partir de la liste des coefficients `iCoeff` renvoie le polynome de réatroaction sous forme d'une chaine de caractère. "
   ]
  },
  {
   "cell_type": "code",
   "execution_count": 49,
   "metadata": {},
   "outputs": [
    {
     "name": "stdout",
     "output_type": "stream",
     "text": [
      "indicesToPolynome : OK\n"
     ]
    }
   ],
   "source": [
    "def indicesToPolynome(iCoeff):\n",
    "    polynome = \"f(X) = 1\"\n",
    "    for i in iCoeff:\n",
    "        polynome += \" + X**\" + str(i+1)\n",
    "    return polynome\n",
    "\n",
    "try : \n",
    "    assert indicesToPolynome([2,4,7]) == \"f(X) = 1 + X**3 + X**5 + X**8\"\n",
    "    print(\"indicesToPolynome : OK\")\n",
    "except:\n",
    "    print(\"indicesToPolynome : ERREUR\")"
   ]
  },
  {
   "cell_type": "markdown",
   "metadata": {},
   "source": [
    "> **Question 3.4 :**\n",
    "1. Rassembler les éléments précédents dans une fonction `attaque_LFSR(suiteChiff)` qui retourne la complexité linéaire (inférieure ou égale à $l$) et les indices des coefficients de rétroaction à partir de la liste $suiteChiff$ des $2l$ premiers bits $b_0,\\ \\dots,\\ b_{2l-1}$\n",
    "2. Tester la fonction avec notre LFSR : faire en sorte d'afficher la complèxité linéaire et le polynome de rétroaction minimal."
   ]
  },
  {
   "cell_type": "code",
   "execution_count": 53,
   "metadata": {},
   "outputs": [
    {
     "ename": "ValueError",
     "evalue": "not enough values to unpack (expected 2, got 1)",
     "output_type": "error",
     "traceback": [
      "\u001b[0;31m---------------------------------------------------------------------------\u001b[0m",
      "\u001b[0;31mValueError\u001b[0m                                Traceback (most recent call last)",
      "\u001b[1;32m/home/alan/Documents/ENSIBS/cyberlog-A3/RNG/TP2/GNA_TP2_2024.ipynb Cell 37\u001b[0m line \u001b[0;36m1\n\u001b[1;32m     <a href='vscode-notebook-cell:/home/alan/Documents/ENSIBS/cyberlog-A3/RNG/TP2/GNA_TP2_2024.ipynb#X51sZmlsZQ%3D%3D?line=11'>12</a>\u001b[0m     \u001b[39mreturn\u001b[39;00m complexite, coeff\n\u001b[1;32m     <a href='vscode-notebook-cell:/home/alan/Documents/ENSIBS/cyberlog-A3/RNG/TP2/GNA_TP2_2024.ipynb#X51sZmlsZQ%3D%3D?line=13'>14</a>\u001b[0m init \u001b[39m=\u001b[39m [\u001b[39m0\u001b[39m, \u001b[39m1\u001b[39m, \u001b[39m1\u001b[39m, \u001b[39m1\u001b[39m, \u001b[39m1\u001b[39m, \u001b[39m0\u001b[39m, \u001b[39m0\u001b[39m, \u001b[39m0\u001b[39m]\n\u001b[0;32m---> <a href='vscode-notebook-cell:/home/alan/Documents/ENSIBS/cyberlog-A3/RNG/TP2/GNA_TP2_2024.ipynb#X51sZmlsZQ%3D%3D?line=14'>15</a>\u001b[0m \u001b[39mprint\u001b[39m(attaque_LFSR(convertToList(suite_LFSR(init, [\u001b[39m2\u001b[39;49m, \u001b[39m4\u001b[39;49m, \u001b[39m7\u001b[39;49m], \u001b[39m16\u001b[39;49m))))\n\u001b[1;32m     <a href='vscode-notebook-cell:/home/alan/Documents/ENSIBS/cyberlog-A3/RNG/TP2/GNA_TP2_2024.ipynb#X51sZmlsZQ%3D%3D?line=15'>16</a>\u001b[0m \u001b[39mtry\u001b[39;00m : \n\u001b[1;32m     <a href='vscode-notebook-cell:/home/alan/Documents/ENSIBS/cyberlog-A3/RNG/TP2/GNA_TP2_2024.ipynb#X51sZmlsZQ%3D%3D?line=16'>17</a>\u001b[0m     init \u001b[39m=\u001b[39m [\u001b[39m0\u001b[39m, \u001b[39m1\u001b[39m, \u001b[39m1\u001b[39m, \u001b[39m1\u001b[39m, \u001b[39m1\u001b[39m, \u001b[39m0\u001b[39m, \u001b[39m0\u001b[39m, \u001b[39m0\u001b[39m]\n",
      "\u001b[1;32m/home/alan/Documents/ENSIBS/cyberlog-A3/RNG/TP2/GNA_TP2_2024.ipynb Cell 37\u001b[0m line \u001b[0;36m6\n\u001b[1;32m      <a href='vscode-notebook-cell:/home/alan/Documents/ENSIBS/cyberlog-A3/RNG/TP2/GNA_TP2_2024.ipynb#X51sZmlsZQ%3D%3D?line=3'>4</a>\u001b[0m \u001b[39mwhile\u001b[39;00m complexite \u001b[39m<\u001b[39m \u001b[39mlen\u001b[39m(suiteChiff)\u001b[39m/\u001b[39m\u001b[39m2\u001b[39m:\n\u001b[1;32m      <a href='vscode-notebook-cell:/home/alan/Documents/ENSIBS/cyberlog-A3/RNG/TP2/GNA_TP2_2024.ipynb#X51sZmlsZQ%3D%3D?line=4'>5</a>\u001b[0m     matrice \u001b[39m=\u001b[39m suiteToSys(suiteChiff[:complexite\u001b[39m*\u001b[39m\u001b[39m2\u001b[39m])\n\u001b[0;32m----> <a href='vscode-notebook-cell:/home/alan/Documents/ENSIBS/cyberlog-A3/RNG/TP2/GNA_TP2_2024.ipynb#X51sZmlsZQ%3D%3D?line=5'>6</a>\u001b[0m     sol, sysResolu \u001b[39m=\u001b[39m pivotGauss(matrice)\n\u001b[1;32m      <a href='vscode-notebook-cell:/home/alan/Documents/ENSIBS/cyberlog-A3/RNG/TP2/GNA_TP2_2024.ipynb#X51sZmlsZQ%3D%3D?line=6'>7</a>\u001b[0m     \u001b[39mif\u001b[39;00m sol \u001b[39m!=\u001b[39m \u001b[39m-\u001b[39m\u001b[39m1\u001b[39m:\n\u001b[1;32m      <a href='vscode-notebook-cell:/home/alan/Documents/ENSIBS/cyberlog-A3/RNG/TP2/GNA_TP2_2024.ipynb#X51sZmlsZQ%3D%3D?line=7'>8</a>\u001b[0m         \u001b[39mif\u001b[39;00m convertToList(suite_LFSR(suiteChiff[:complexite],sol,\u001b[39mlen\u001b[39m(suiteChiff))) \u001b[39m==\u001b[39m suiteChiff:\n",
      "\u001b[0;31mValueError\u001b[0m: not enough values to unpack (expected 2, got 1)"
     ]
    }
   ],
   "source": [
    "def attaque_LFSR(suiteChiff, verbose = False):\n",
    "    complexite = 2\n",
    "    liste = []\n",
    "    while(complexite <len(suiteChiff)//2):\n",
    "        matrice = suiteToSys(suiteChiff[:complexite*2])\n",
    "        sol, res= pivotGauss(suiteChiff)[0]\n",
    "        if(sol != -1 and convertToList(suite_LFSR(suiteChiff[:complexite],sol,len(suiteChiff))) == suiteChiff):\n",
    "            liste = sol\n",
    "            break\n",
    "        complexite +=1\n",
    "        \n",
    "    return complexite, liste\n",
    "\n",
    "init = [0, 1, 1, 1, 1, 0, 0, 0]\n",
    "print(attaque_LFSR(convertToList(suite_LFSR(init, [2, 4, 7], 16))))\n",
    "try : \n",
    "    init = [0, 1, 1, 1, 1, 0, 0, 0]\n",
    "    suiteChiff = convertToList(suite_LFSR(init, [2, 4, 7], 16))\n",
    "    comp, coeff = attaque_LFSR(suiteChiff)\n",
    "    assert comp == 6\n",
    "    assert coeff == [1,2]\n",
    "    init = [0, 0, 0, 1, 1, 0, 1, 1] \n",
    "    suiteChiff = convertToList(suite_LFSR(init, [2, 4, 7], 16))\n",
    "    comp, coeff = attaque_LFSR(suiteChiff)\n",
    "    assert comp == 4\n",
    "    assert coeff == [2, 3] \n",
    "    print(\"attaque_LFSR : OK\")\n",
    "except:\n",
    "    print(\"attaque_LFSR : ERREUR\")\n",
    "\n"
   ]
  },
  {
   "cell_type": "code",
   "execution_count": null,
   "metadata": {},
   "outputs": [],
   "source": [
    "init = [0, 1, 1, 1, 1, 0, 0, 0]\n",
    "#init = [0, 0, 1, 1, 1, 0, 1, 1]\n",
    "#init = [1, 1, 0, 1, 1, 0, 0, 1]\n",
    "#init = [0, 0, 0, 1, 1, 0, 1, 1] \n",
    "suiteChiff = convertToList(suite_LFSR(init, [2, 4, 7], 16))\n",
    "\n",
    "#Quels polynomes de rétroaction obtenez vous ?"
   ]
  },
  {
   "cell_type": "markdown",
   "metadata": {},
   "source": [
    "Notez que la complexité linéaire est liée à la suite chiffrante (et donc à la graine) et pas au LFSR ! "
   ]
  },
  {
   "cell_type": "code",
   "execution_count": null,
   "metadata": {},
   "outputs": [],
   "source": []
  }
 ],
 "metadata": {
  "kernelspec": {
   "display_name": "Python 3 (ipykernel)",
   "language": "python",
   "name": "python3"
  },
  "language_info": {
   "codemirror_mode": {
    "name": "ipython",
    "version": 3
   },
   "file_extension": ".py",
   "mimetype": "text/x-python",
   "name": "python",
   "nbconvert_exporter": "python",
   "pygments_lexer": "ipython3",
   "version": "3.11.8"
  }
 },
 "nbformat": 4,
 "nbformat_minor": 4
}
